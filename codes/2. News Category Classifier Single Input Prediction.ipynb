{
  "nbformat": 4,
  "nbformat_minor": 0,
  "metadata": {
    "colab": {
      "name": "Part 2 of News Category Classifier - Single Input Edition.ipynb",
      "provenance": [],
      "collapsed_sections": [],
      "include_colab_link": true
    },
    "kernelspec": {
      "name": "python3",
      "display_name": "Python 3"
    },
    "accelerator": "GPU"
  },
  "cells": [
    {
      "cell_type": "markdown",
      "metadata": {
        "id": "view-in-github",
        "colab_type": "text"
      },
      "source": [
        "<a href=\"https://colab.research.google.com/github/bala-codes/NEWS-CATEGORY-CLASSIFIER-USING-MACHINE-LEARNING-NLP/blob/master/codes/2.%20News%20Category%20Classifier%20Single%20Input%20Prediction.ipynb\" target=\"_parent\"><img src=\"https://colab.research.google.com/assets/colab-badge.svg\" alt=\"Open In Colab\"/></a>"
      ]
    },
    {
      "cell_type": "code",
      "metadata": {
        "id": "iArv-2OPT9Ft",
        "colab_type": "code",
        "colab": {
          "base_uri": "https://localhost:8080/",
          "height": 125
        },
        "outputId": "9b6c5fc9-f515-420e-8b54-e833c4a50464"
      },
      "source": [
        "# IF YOU ARE USING GOOGLE COLABORATORY AND IF YOUR DATA IS STORED IN GOOGLE DRIVE, THEN RUN THIS CODE OTHERWISE DON'T EXECUTE\n",
        "\n",
        "from google.colab import drive\n",
        "drive.mount('/content/gdrive')"
      ],
      "execution_count": null,
      "outputs": [
        {
          "output_type": "stream",
          "text": [
            "Go to this URL in a browser: https://accounts.google.com/o/oauth2/auth?client_id=947318989803-6bn6qk8qdgf4n4g3pfee6491hc0brc4i.apps.googleusercontent.com&redirect_uri=urn%3Aietf%3Awg%3Aoauth%3A2.0%3Aoob&scope=email%20https%3A%2F%2Fwww.googleapis.com%2Fauth%2Fdocs.test%20https%3A%2F%2Fwww.googleapis.com%2Fauth%2Fdrive%20https%3A%2F%2Fwww.googleapis.com%2Fauth%2Fdrive.photos.readonly%20https%3A%2F%2Fwww.googleapis.com%2Fauth%2Fpeopleapi.readonly&response_type=code\n",
            "\n",
            "Enter your authorization code:\n",
            "··········\n",
            "Mounted at /content/gdrive\n"
          ],
          "name": "stdout"
        }
      ]
    },
    {
      "cell_type": "code",
      "metadata": {
        "id": "a7DFP7E9H8FX",
        "colab_type": "code",
        "colab": {}
      },
      "source": [
        "import pickle\n",
        "import numpy as np\n",
        "import matplotlib.pyplot as plt\n",
        "plt.style.use('ggplot')"
      ],
      "execution_count": null,
      "outputs": []
    },
    {
      "cell_type": "code",
      "metadata": {
        "id": "X5meDk8HUH_b",
        "colab_type": "code",
        "colab": {}
      },
      "source": [
        "with open(\"/content/gdrive/My Drive/Machine Learning Projects/NEWS CATEGORY CLASSIFIER PROJECT/Pretrained Models/nb_classifier.pkl\", \"rb\") as fin:\n",
        "  vectorizer, nb_classifier = pickle.load(fin)\n",
        " \n",
        "with open(\"/content/gdrive/My Drive/Machine Learning Projects/NEWS CATEGORY CLASSIFIER PROJECT/Pretrained Models/svc_classifier.pkl\", \"rb\") as fin:\n",
        "  vectorizer, svc_classifier = pickle.load(fin)\n",
        " \n",
        "with open(\"/content/gdrive/My Drive/Machine Learning Projects/NEWS CATEGORY CLASSIFIER PROJECT/Pretrained Models/pac_classifier.pkl\", \"rb\") as fin:\n",
        "  vectorizer, pac_classifier = pickle.load(fin)\n",
        " \n",
        "with open(\"/content/gdrive/My Drive/Machine Learning Projects/NEWS CATEGORY CLASSIFIER PROJECT/Pretrained Models/calibrator_classifier.pkl\", \"rb\") as fin:\n",
        "  vectorizer, calibrator_classifier = pickle.load(fin)\n",
        " \n",
        "with open(\"/content/gdrive/My Drive/Machine Learning Projects/NEWS CATEGORY CLASSIFIER PROJECT/Pretrained Models/logregcv_classifier.pkl\", \"rb\") as fin:\n",
        "  vectorizer, logregcv_classifier = pickle.load(fin)\n",
        " \n",
        "with open(\"/content/gdrive/My Drive/Machine Learning Projects/NEWS CATEGORY CLASSIFIER PROJECT/Pretrained Models/logreg_classifier.pkl\", \"rb\") as fin:\n",
        "  vectorizer, logreg_classifier = pickle.load(fin)\n",
        "\n",
        "with open(\"/content/gdrive/My Drive/Machine Learning Projects/NEWS CATEGORY CLASSIFIER PROJECT/Pretrained Models/bb_classifier.pkl\", \"rb\") as fin:\n",
        "  vectorizer, bb_classifier = pickle.load(fin)\n",
        "\n",
        "with open(\"/content/gdrive/My Drive/Machine Learning Projects/NEWS CATEGORY CLASSIFIER PROJECT/Pretrained Models/rf_classifier.pkl\", \"rb\") as fin:\n",
        "  vectorizer, rf_classifier = pickle.load(fin)\n",
        "\n",
        "print(\"SUCCESS ALL MODELS LOADED\")"
      ],
      "execution_count": null,
      "outputs": []
    },
    {
      "cell_type": "code",
      "metadata": {
        "id": "C-klp1dYF4xQ",
        "colab_type": "code",
        "colab": {}
      },
      "source": [
        "# Required Functions to predict the News\n",
        "\n",
        "output = int()\n",
        "def prediction(text):\n",
        "  test = vectorizer.transform(text)\n",
        "  graph,output = ensemble(test)\n",
        "  class_labels = ['Politics','Technology','Entertainment','Business']\n",
        "  value = class_labels[output[0]]\n",
        "\n",
        "  j = [graph[0][0],graph[0][1],graph[0][2],graph[0][3]]\n",
        "  y_pos = np.arange(len(class_labels))\n",
        "  plt.barh(y_pos,j)\n",
        "  plt.yticks(y_pos,class_labels)\n",
        "  print()\n",
        "  plt.title('PREDICTION FOR CATEGORIES')\n",
        "  plt.xlabel('Percentage')\n",
        "  plt.ylabel('Labels')\n",
        "  plt.show()\n",
        "  print()\n",
        "  start = \"\\033[1m\"\n",
        "  end = \"\\033[0;0m\"\n",
        "  print('THE GIVEN NEWS ARTICLE IS RELATED TO ' + start + str(value) + end)\n",
        "\n",
        "def ensemble(x):\n",
        "  pred1 = logreg_classifier.predict_proba(x)\n",
        "  pred2 = nb_classifier.predict_proba(x)\n",
        "  pred3 = svc_classifier.predict_proba(x)\n",
        "  pred4 = pac_classifier._predict_proba_lr(x)\n",
        "  pred5 = calibrator_classifier.predict_proba(x)\n",
        "  pred6 = logregcv_classifier.predict_proba(x)\n",
        "  pred7 = rf_classifier.predict_proba(x)\n",
        "  pred8 = bb_classifier.predict_proba(x)\n",
        "\n",
        "  test_pred_prob = np.mean([pred1, pred2, pred3, pred4, pred5, pred6, pred7, pred8], axis=0)\n",
        "  pred = np.argmax(test_pred_prob, axis=1)\n",
        "  return test_pred_prob,pred\n"
      ],
      "execution_count": null,
      "outputs": []
    },
    {
      "cell_type": "markdown",
      "metadata": {
        "id": "2ro5Wj8KB-X_",
        "colab_type": "text"
      },
      "source": [
        "# GIVE YOUR INPUT HERE"
      ]
    },
    {
      "cell_type": "code",
      "metadata": {
        "id": "TFyanqQxVZTW",
        "colab_type": "code",
        "colab": {
          "base_uri": "https://localhost:8080/",
          "height": 390
        },
        "outputId": "7458a2a3-c9c4-4ada-88fc-0a788d02806d"
      },
      "source": [
        "#String input\n",
        "x = input(\"ENTER THE NEWS ARTCILE HERE : \") \n",
        "x=[x,]\n",
        "prediction(x)\n",
        "'''\n",
        "   INPUT : you love to swing to music, then this could be your time to let your hair down at Dholi Taro Dandiya Night.\n",
        "           Wear your vibrant ethnic best and move gracefully in circles while keeping time with dandiya sticks to the tunes of Gujarati, \n",
        "           Bollywood and DJ dandiya mix by DJ Akhil.   According to Deepika Kamnani, an organiser of the dance event, \n",
        "           it all started when Priyadarsini Premakumary posted a message on Her Trivandrum, a Facebook page in which Deepika is a member.  \n",
        "           “Priyadarshini, an NRI from the city, encouraged members of the group to organise a Dandiya night as a way to educate children about \n",
        "           diverse festivals and celebrations in India,” says Deepika.  Inspired by the positive response to the post, Deepika decided \n",
        "           to set the ball rolling and Utsav, a committee, was formed comprising Priya Harikumar, Sujaya George, Gayatri S Ajith, Sonali Kamnani,\n",
        "           Athira Gopinathan, Shailja Sreekumar and Deepika herself.  “There’s quite a lot of work to be done in such a short time, \n",
        "'''"
      ],
      "execution_count": null,
      "outputs": [
        {
          "output_type": "stream",
          "text": [
            "ENTER THE NEWS ARTCILE HERE : ENTER THE NEWS ARTCILE HERE : ENTER THE NEWS ARTCILE HERE : f you love to swing to music, then this could be your time to let your hair down at Dholi Taro Dandiya Night.  Wear your vibrant ethnic best and move gracefully in circles while keeping time with dandiya sticks to the tunes of Gujarati, Bollywood and DJ dandiya mix by DJ Akhil.   According to Deepika Kamnani, an organiser of the dance event, it all started when Priyadarsini Premakumary posted a message on Her Trivandrum, a Facebook page in which Deepika is a member.  “Priyadarshini, an NRI from the city, encouraged members of the group to organise a Dandiya night as a way to educate children about diverse festivals and celebrations in India,” says Deepika.  Inspired by the positive response to the post, Deepika decided to set the ball rolling and Utsav, a committee, was formed comprising Priya Harikumar, Sujaya George, Gayatri S Ajith, Sonali Kamnani, Athira Gopinathan, Shailja Sreekumar and Deepika herself.  “There’s quite a lot of work to be done in such a short time, right from finding sponsors to the event, to getting a permit from the City Corporation to organising the clean-up post the event. We were fortunate in finding a venue for the programme with ease as Devi Mohan, a member of Her Trivandrum and vice-chairman of Saraswathy Vidyalaya, magnanimously offered the Saraswathy Vidyalaya school grounds to hold the Dandiya night.”  Although Dandiya nights are a norm in many places in India during the Navaratri season, it’s celebrated on a small scale in the city. “The North Indian community in the city, especially the Gujaratis, organise a nine-day garba dance at a mandapam at East Fort every year during Navaratri. It is, however, perhaps for the first time that a garba is open to all communities and held on such a large scale in the city,” says Deepika.  Priya says that the dandiya is easy to perform and does not have complicated moves. “Also, we have members who will be leading the dance floor. The euphoria is evident as a few have shared videos of simple dance moves in a WhatsApp group we have formed for our guests. People want to perfect the styles of dandiya and garba and present an immaculate performance during the event,” says Priya.  Tickets to the event are priced at ₹300 for adults and ₹250 for children between the ages of three and 10. Men, women and children have to come dressed in ethnic wear. Dandiya sticks will be provided at the venue. There will be food stalls and an interesting line-up of games at the venue.  The event is at Saraswathy Vidyalaya, Vattiyoorkavu, on October 6. Time: 4 pm to 10 pm.\n",
            "\n"
          ],
          "name": "stdout"
        },
        {
          "output_type": "display_data",
          "data": {
            "image/png": "[encoded data removed]",
            "text/plain": [
              "<Figure size 432x288 with 1 Axes>"
            ]
          },
          "metadata": {
            "tags": []
          }
        },
        {
          "output_type": "stream",
          "text": [
            "\n",
            "THE GIVEN NEWS ARTICLE IS RELATED TO \u001b[1mEntertainment\u001b[0;0m\n"
          ],
          "name": "stdout"
        }
      ]
    },
    {
      "cell_type": "code",
      "metadata": {
        "id": "adaBwvjiNMWO",
        "colab_type": "code",
        "colab": {}
      },
      "source": [
        ""
      ],
      "execution_count": null,
      "outputs": []
    }
  ]
}